{
 "cells": [
  {
   "cell_type": "markdown",
   "metadata": {},
   "source": [
    "# Logistic Regression Models"
   ]
  },
  {
   "cell_type": "code",
   "execution_count": 29,
   "metadata": {},
   "outputs": [
    {
     "name": "stdout",
     "output_type": "stream",
     "text": [
      "Confusion Matrix:\n",
      " [[1153   75]\n",
      " [  75 1153]]\n",
      "Accuracy: 0.9389250814332247\n",
      "accuracy:  0.9240175289793611\n",
      "Cross-validation accuracies: [0.91308956 0.93481717 0.93110758 0.91732909 0.92739799 0.92368839\n",
      " 0.91198303 0.93107105 0.92682927 0.92364793 0.92152704 0.91198303\n",
      " 0.93425239 0.9300106  0.91728526]\n",
      "Mean CV accuracy: 0.9237346260239404\n"
     ]
    }
   ],
   "source": [
    "import pandas as pd\n",
    "from sklearn.model_selection import train_test_split\n",
    "from sklearn.linear_model import LogisticRegression\n",
    "from sklearn.metrics import accuracy_score, confusion_matrix\n",
    "from sklearn.model_selection import cross_val_score\n",
    "\n",
    "\n",
    "# gather the train and test data\n",
    "train_data = pd.read_csv('../../../data/season-data/2012_to_2023_data.csv')\n",
    "test_data = pd.read_csv('../../../data/season-data/combined_2024.csv')\n",
    "\n",
    "train_data = pd.get_dummies(train_data, columns=['team', 'team_opp'])\n",
    "test_data = pd.get_dummies(test_data, columns=['team', 'team_opp'])\n",
    "\n",
    "\n",
    "# Convert 'date' column to datetime type\n",
    "train_data['date'] = pd.to_datetime(train_data['date'])\n",
    "test_data['date'] = pd.to_datetime(test_data['date'])\n",
    "\n",
    "# Extract features\n",
    "train_data['year'] = train_data['date'].dt.year\n",
    "train_data['month'] = train_data['date'].dt.month\n",
    "train_data['day'] = train_data['date'].dt.day\n",
    "train_data['day_of_week'] = train_data['date'].dt.dayofweek\n",
    "\n",
    "test_data['year'] = test_data['date'].dt.year\n",
    "test_data['month'] = test_data['date'].dt.month\n",
    "test_data['day'] = test_data['date'].dt.day\n",
    "test_data['day_of_week'] = test_data['date'].dt.dayofweek\n",
    "\n",
    "train_data.fillna(train_data.mean(), inplace=True)\n",
    "test_data.fillna(test_data.mean(), inplace=True)\n",
    "\n",
    "features = [ 'fg%', '3p%', 'ft%', 'orb', 'drb', 'trb', 'stl', 'blk', 'tov', 'pf', 'fg%_opp', '3p%_opp',  'ft%_opp', 'orb_opp', 'drb_opp', 'trb_opp', 'stl_opp', 'blk_opp', 'tov_opp', 'pf_opp']\n",
    "X_train = train_data[features]\n",
    "Y_train = train_data['won']\n",
    "\n",
    "X_test = test_data[features]\n",
    "Y_test = test_data['won']\n",
    "\n",
    "model = LogisticRegression(random_state= 0, max_iter=2000)\n",
    "\n",
    "model.fit(X_train, Y_train)\n",
    "\n",
    "train_pred = model.predict(X_train)\n",
    "\n",
    "test_predictions = model.predict(X_test)\n",
    "\n",
    "accuracy_train = accuracy_score(Y_train, train_pred)\n",
    "accuracy = accuracy_score(Y_test, test_predictions)\n",
    "\n",
    "conf_matrix = confusion_matrix(Y_test, test_predictions)\n",
    "print(\"Confusion Matrix:\\n\", conf_matrix)\n",
    "\n",
    "print(\"Accuracy:\", accuracy)\n",
    "print(\"accuracy: \", accuracy_train)\n",
    "\n",
    "cv_scores = cross_val_score(model, X_train, Y_train, cv=15)\n",
    "print(\"Cross-validation accuracies:\", cv_scores)\n",
    "print(\"Mean CV accuracy:\", cv_scores.mean())"
   ]
  }
 ],
 "metadata": {
  "kernelspec": {
   "display_name": "Python 3",
   "language": "python",
   "name": "python3"
  },
  "language_info": {
   "codemirror_mode": {
    "name": "ipython",
    "version": 3
   },
   "file_extension": ".py",
   "mimetype": "text/x-python",
   "name": "python",
   "nbconvert_exporter": "python",
   "pygments_lexer": "ipython3",
   "version": "3.11.5"
  }
 },
 "nbformat": 4,
 "nbformat_minor": 2
}
