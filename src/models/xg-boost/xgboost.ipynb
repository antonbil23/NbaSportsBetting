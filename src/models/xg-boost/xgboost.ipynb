{
 "cells": [
  {
   "cell_type": "markdown",
   "metadata": {},
   "source": [
    "# XG Boost Model"
   ]
  },
  {
   "cell_type": "code",
   "execution_count": 7,
   "metadata": {},
   "outputs": [
    {
     "name": "stdout",
     "output_type": "stream",
     "text": [
      "Accuracy: 99.55%\n",
      "              precision    recall  f1-score   support\n",
      "\n",
      "         0.0       0.99      1.00      1.00      1228\n",
      "         1.0       1.00      0.99      1.00      1228\n",
      "\n",
      "    accuracy                           1.00      2456\n",
      "   macro avg       1.00      1.00      1.00      2456\n",
      "weighted avg       1.00      1.00      1.00      2456\n",
      "\n"
     ]
    }
   ],
   "source": [
    "import pandas as pd\n",
    "import xgboost as xgb\n",
    "from sklearn.model_selection import train_test_split\n",
    "from sklearn.metrics import accuracy_score, classification_report\n",
    "\n",
    "train_data= pd.read_csv('../../../data/season-data/2012_to_2023_data.csv')\n",
    "test_data = pd.read_csv('../../../data/season-data/combined_2024.csv')\n",
    "\n",
    "combined_data = pd.concat([train_data, test_data], sort=False)\n",
    "\n",
    "# Handle 'date' and other potential object type columns appropriately here if needed\n",
    "combined_data['year'] = pd.to_datetime(combined_data['date']).dt.year\n",
    "combined_data['month'] = pd.to_datetime(combined_data['date']).dt.month\n",
    "combined_data['day'] = pd.to_datetime(combined_data['date']).dt.day\n",
    "combined_data.drop('date', axis=1, inplace=True)\n",
    "\n",
    "# Get dummies for categorical features\n",
    "combined_data = pd.get_dummies(combined_data, columns=['team', 'team_opp'])\n",
    "\n",
    "# Split the combined data back into the original train and test datasets\n",
    "train_data = combined_data.iloc[:len(train_data)]\n",
    "test_data = combined_data.iloc[len(train_data):]\n",
    "\n",
    "\n",
    "X_train = train_data.drop('won', axis=1)\n",
    "Y_train = train_data['won']\n",
    "\n",
    "X_test = test_data.drop('won', axis=1)\n",
    "Y_test = test_data['won']\n",
    "\n",
    "# Prepare the model\n",
    "model = xgb.XGBClassifier(objective='binary:logistic', max_depth=3, learning_rate=0.1, n_estimators=100)\n",
    "model.fit(X_train, Y_train)\n",
    "\n",
    "# Making predictions\n",
    "y_pred = model.predict(X_test)\n",
    "accuracy = accuracy_score(Y_test, y_pred)\n",
    "print(f\"Accuracy: {accuracy * 100:.2f}%\")\n",
    "\n",
    "# Detailed classification report\n",
    "print(classification_report(Y_test, y_pred))"
   ]
  }
 ],
 "metadata": {
  "kernelspec": {
   "display_name": "base",
   "language": "python",
   "name": "python3"
  },
  "language_info": {
   "codemirror_mode": {
    "name": "ipython",
    "version": 3
   },
   "file_extension": ".py",
   "mimetype": "text/x-python",
   "name": "python",
   "nbconvert_exporter": "python",
   "pygments_lexer": "ipython3",
   "version": "3.11.4"
  }
 },
 "nbformat": 4,
 "nbformat_minor": 2
}
